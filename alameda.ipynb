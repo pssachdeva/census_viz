{
 "cells": [
  {
   "cell_type": "code",
   "execution_count": 2,
   "metadata": {
    "collapsed": true
   },
   "outputs": [],
   "source": [
    "import cenpy as c\n",
    "import pandas as pd\n",
    "import matplotlib.pyplot as plt\n",
    "import geopandas as gpd\n",
    "%matplotlib inline"
   ]
  },
  {
   "cell_type": "code",
   "execution_count": 3,
   "metadata": {
    "collapsed": false
   },
   "outputs": [],
   "source": [
    "acs_2015 = 'ACSSF5Y2015'\n",
    "connection = c.base.Connection(acs_2015)"
   ]
  },
  {
   "cell_type": "code",
   "execution_count": 4,
   "metadata": {
    "collapsed": true
   },
   "outputs": [],
   "source": [
    "geographies = connection.geographies['fips']\n",
    "variables = connection.variables"
   ]
  },
  {
   "cell_type": "code",
   "execution_count": 54,
   "metadata": {
    "collapsed": true
   },
   "outputs": [],
   "source": [
    "pop_id = ['B00001_001E']\n",
    "race_ids = ['B02001_001E', 'B02001_002E', 'B02001_003E', 'B02001_004E', 'B02001_005E']\n",
    "race_dict = dict(zip(race_ids, variables.loc[race_ids].label))"
   ]
  },
  {
   "cell_type": "code",
   "execution_count": 55,
   "metadata": {
    "collapsed": false
   },
   "outputs": [],
   "source": [
    "geo_unit = 'block group'\n",
    "geo_filter = {'state' : '06', 'county' : '001'}\n",
    "cols = ['NAME', 'GEOID'] + pop_id + race_ids"
   ]
  },
  {
   "cell_type": "code",
   "execution_count": 59,
   "metadata": {
    "collapsed": false
   },
   "outputs": [
    {
     "data": {
      "text/plain": [
       "125008.0"
      ]
     },
     "execution_count": 59,
     "metadata": {},
     "output_type": "execute_result"
    }
   ],
   "source": [
    "query[pop_id[0]].sum()"
   ]
  },
  {
   "cell_type": "code",
   "execution_count": 56,
   "metadata": {
    "collapsed": false
   },
   "outputs": [
    {
     "name": "stderr",
     "output_type": "stream",
     "text": [
      "/usr/local/lib/python3.5/site-packages/cenpy/remote.py:172: FutureWarning: convert_objects is deprecated.  To re-infer data dtypes for object columns, use DataFrame.infer_objects()\n",
      "For all other conversions use the data-type specific converters pd.to_datetime, pd.to_timedelta and pd.to_numeric.\n",
      "  df[cols] = df[cols].convert_objects(convert_numeric=convert_numeric)\n"
     ]
    },
    {
     "data": {
      "text/html": [
       "<div>\n",
       "<style scoped>\n",
       "    .dataframe tbody tr th:only-of-type {\n",
       "        vertical-align: middle;\n",
       "    }\n",
       "\n",
       "    .dataframe tbody tr th {\n",
       "        vertical-align: top;\n",
       "    }\n",
       "\n",
       "    .dataframe thead th {\n",
       "        text-align: right;\n",
       "    }\n",
       "</style>\n",
       "<table border=\"1\" class=\"dataframe\">\n",
       "  <thead>\n",
       "    <tr style=\"text-align: right;\">\n",
       "      <th></th>\n",
       "      <th>NAME</th>\n",
       "      <th>GEOID</th>\n",
       "      <th>B00001_001E</th>\n",
       "      <th>B02001_001E</th>\n",
       "      <th>B02001_002E</th>\n",
       "      <th>B02001_003E</th>\n",
       "      <th>B02001_004E</th>\n",
       "      <th>B02001_005E</th>\n",
       "      <th>state</th>\n",
       "      <th>county</th>\n",
       "      <th>tract</th>\n",
       "      <th>block group</th>\n",
       "    </tr>\n",
       "    <tr>\n",
       "      <th>GEOID</th>\n",
       "      <th></th>\n",
       "      <th></th>\n",
       "      <th></th>\n",
       "      <th></th>\n",
       "      <th></th>\n",
       "      <th></th>\n",
       "      <th></th>\n",
       "      <th></th>\n",
       "      <th></th>\n",
       "      <th></th>\n",
       "      <th></th>\n",
       "      <th></th>\n",
       "    </tr>\n",
       "  </thead>\n",
       "  <tbody>\n",
       "    <tr>\n",
       "      <th>060014001001</th>\n",
       "      <td>Block Group 1, Census Tract 4001, Alameda Coun...</td>\n",
       "      <td>15000US060014001001</td>\n",
       "      <td>301.0</td>\n",
       "      <td>2952</td>\n",
       "      <td>2125</td>\n",
       "      <td>106</td>\n",
       "      <td>0</td>\n",
       "      <td>476</td>\n",
       "      <td>06</td>\n",
       "      <td>001</td>\n",
       "      <td>400100</td>\n",
       "      <td>1</td>\n",
       "    </tr>\n",
       "    <tr>\n",
       "      <th>060014002001</th>\n",
       "      <td>Block Group 1, Census Tract 4002, Alameda Coun...</td>\n",
       "      <td>15000US060014002001</td>\n",
       "      <td>186.0</td>\n",
       "      <td>1071</td>\n",
       "      <td>881</td>\n",
       "      <td>0</td>\n",
       "      <td>0</td>\n",
       "      <td>57</td>\n",
       "      <td>06</td>\n",
       "      <td>001</td>\n",
       "      <td>400200</td>\n",
       "      <td>1</td>\n",
       "    </tr>\n",
       "    <tr>\n",
       "      <th>060014002002</th>\n",
       "      <td>Block Group 2, Census Tract 4002, Alameda Coun...</td>\n",
       "      <td>15000US060014002002</td>\n",
       "      <td>142.0</td>\n",
       "      <td>913</td>\n",
       "      <td>710</td>\n",
       "      <td>29</td>\n",
       "      <td>0</td>\n",
       "      <td>108</td>\n",
       "      <td>06</td>\n",
       "      <td>001</td>\n",
       "      <td>400200</td>\n",
       "      <td>2</td>\n",
       "    </tr>\n",
       "    <tr>\n",
       "      <th>060014003001</th>\n",
       "      <td>Block Group 1, Census Tract 4003, Alameda Coun...</td>\n",
       "      <td>15000US060014003001</td>\n",
       "      <td>63.0</td>\n",
       "      <td>1414</td>\n",
       "      <td>861</td>\n",
       "      <td>94</td>\n",
       "      <td>0</td>\n",
       "      <td>280</td>\n",
       "      <td>06</td>\n",
       "      <td>001</td>\n",
       "      <td>400300</td>\n",
       "      <td>1</td>\n",
       "    </tr>\n",
       "    <tr>\n",
       "      <th>060014003002</th>\n",
       "      <td>Block Group 2, Census Tract 4003, Alameda Coun...</td>\n",
       "      <td>15000US060014003002</td>\n",
       "      <td>94.0</td>\n",
       "      <td>1259</td>\n",
       "      <td>881</td>\n",
       "      <td>71</td>\n",
       "      <td>12</td>\n",
       "      <td>171</td>\n",
       "      <td>06</td>\n",
       "      <td>001</td>\n",
       "      <td>400300</td>\n",
       "      <td>2</td>\n",
       "    </tr>\n",
       "    <tr>\n",
       "      <th>060014003003</th>\n",
       "      <td>Block Group 3, Census Tract 4003, Alameda Coun...</td>\n",
       "      <td>15000US060014003003</td>\n",
       "      <td>49.0</td>\n",
       "      <td>962</td>\n",
       "      <td>504</td>\n",
       "      <td>352</td>\n",
       "      <td>0</td>\n",
       "      <td>40</td>\n",
       "      <td>06</td>\n",
       "      <td>001</td>\n",
       "      <td>400300</td>\n",
       "      <td>3</td>\n",
       "    </tr>\n",
       "    <tr>\n",
       "      <th>060014003004</th>\n",
       "      <td>Block Group 4, Census Tract 4003, Alameda Coun...</td>\n",
       "      <td>15000US060014003004</td>\n",
       "      <td>94.0</td>\n",
       "      <td>1742</td>\n",
       "      <td>1311</td>\n",
       "      <td>174</td>\n",
       "      <td>0</td>\n",
       "      <td>235</td>\n",
       "      <td>06</td>\n",
       "      <td>001</td>\n",
       "      <td>400300</td>\n",
       "      <td>4</td>\n",
       "    </tr>\n",
       "    <tr>\n",
       "      <th>060014004001</th>\n",
       "      <td>Block Group 1, Census Tract 4004, Alameda Coun...</td>\n",
       "      <td>15000US060014004001</td>\n",
       "      <td>134.0</td>\n",
       "      <td>1304</td>\n",
       "      <td>1056</td>\n",
       "      <td>11</td>\n",
       "      <td>17</td>\n",
       "      <td>164</td>\n",
       "      <td>06</td>\n",
       "      <td>001</td>\n",
       "      <td>400400</td>\n",
       "      <td>1</td>\n",
       "    </tr>\n",
       "    <tr>\n",
       "      <th>060014004002</th>\n",
       "      <td>Block Group 2, Census Tract 4004, Alameda Coun...</td>\n",
       "      <td>15000US060014004002</td>\n",
       "      <td>111.0</td>\n",
       "      <td>1471</td>\n",
       "      <td>939</td>\n",
       "      <td>375</td>\n",
       "      <td>18</td>\n",
       "      <td>102</td>\n",
       "      <td>06</td>\n",
       "      <td>001</td>\n",
       "      <td>400400</td>\n",
       "      <td>2</td>\n",
       "    </tr>\n",
       "    <tr>\n",
       "      <th>060014004003</th>\n",
       "      <td>Block Group 3, Census Tract 4004, Alameda Coun...</td>\n",
       "      <td>15000US060014004003</td>\n",
       "      <td>117.0</td>\n",
       "      <td>1330</td>\n",
       "      <td>930</td>\n",
       "      <td>68</td>\n",
       "      <td>0</td>\n",
       "      <td>140</td>\n",
       "      <td>06</td>\n",
       "      <td>001</td>\n",
       "      <td>400400</td>\n",
       "      <td>3</td>\n",
       "    </tr>\n",
       "  </tbody>\n",
       "</table>\n",
       "</div>"
      ],
      "text/plain": [
       "                                                           NAME  \\\n",
       "GEOID                                                             \n",
       "060014001001  Block Group 1, Census Tract 4001, Alameda Coun...   \n",
       "060014002001  Block Group 1, Census Tract 4002, Alameda Coun...   \n",
       "060014002002  Block Group 2, Census Tract 4002, Alameda Coun...   \n",
       "060014003001  Block Group 1, Census Tract 4003, Alameda Coun...   \n",
       "060014003002  Block Group 2, Census Tract 4003, Alameda Coun...   \n",
       "060014003003  Block Group 3, Census Tract 4003, Alameda Coun...   \n",
       "060014003004  Block Group 4, Census Tract 4003, Alameda Coun...   \n",
       "060014004001  Block Group 1, Census Tract 4004, Alameda Coun...   \n",
       "060014004002  Block Group 2, Census Tract 4004, Alameda Coun...   \n",
       "060014004003  Block Group 3, Census Tract 4004, Alameda Coun...   \n",
       "\n",
       "                            GEOID  B00001_001E  B02001_001E  B02001_002E  \\\n",
       "GEOID                                                                      \n",
       "060014001001  15000US060014001001        301.0         2952         2125   \n",
       "060014002001  15000US060014002001        186.0         1071          881   \n",
       "060014002002  15000US060014002002        142.0          913          710   \n",
       "060014003001  15000US060014003001         63.0         1414          861   \n",
       "060014003002  15000US060014003002         94.0         1259          881   \n",
       "060014003003  15000US060014003003         49.0          962          504   \n",
       "060014003004  15000US060014003004         94.0         1742         1311   \n",
       "060014004001  15000US060014004001        134.0         1304         1056   \n",
       "060014004002  15000US060014004002        111.0         1471          939   \n",
       "060014004003  15000US060014004003        117.0         1330          930   \n",
       "\n",
       "              B02001_003E  B02001_004E  B02001_005E state county   tract  \\\n",
       "GEOID                                                                      \n",
       "060014001001          106            0          476    06    001  400100   \n",
       "060014002001            0            0           57    06    001  400200   \n",
       "060014002002           29            0          108    06    001  400200   \n",
       "060014003001           94            0          280    06    001  400300   \n",
       "060014003002           71           12          171    06    001  400300   \n",
       "060014003003          352            0           40    06    001  400300   \n",
       "060014003004          174            0          235    06    001  400300   \n",
       "060014004001           11           17          164    06    001  400400   \n",
       "060014004002          375           18          102    06    001  400400   \n",
       "060014004003           68            0          140    06    001  400400   \n",
       "\n",
       "             block group  \n",
       "GEOID                     \n",
       "060014001001           1  \n",
       "060014002001           1  \n",
       "060014002002           2  \n",
       "060014003001           1  \n",
       "060014003002           2  \n",
       "060014003003           3  \n",
       "060014003004           4  \n",
       "060014004001           1  \n",
       "060014004002           2  \n",
       "060014004003           3  "
      ]
     },
     "execution_count": 56,
     "metadata": {},
     "output_type": "execute_result"
    }
   ],
   "source": [
    "query = connection.query(cols=cols, geo_unit=geo_unit, geo_filter=geo_filter)\n",
    "query.index = query.GEOID\n",
    "query.index = query.index.str.replace('15000US', '')\n",
    "query.head(10)"
   ]
  },
  {
   "cell_type": "code",
   "execution_count": 41,
   "metadata": {
    "collapsed": true
   },
   "outputs": [],
   "source": [
    "connection.set_mapservice('tigerWMS_ACS2015')\n",
    "tracts = connection.mapservice.query(layer=8, where='STATE=06 and COUNTY=001', pkg='geopandas')\n",
    "blocks = connection.mapservice.query(layer=10, where='STATE=06 and COUNTY=001', pkg='geopandas')"
   ]
  },
  {
   "cell_type": "code",
   "execution_count": 51,
   "metadata": {
    "collapsed": false
   },
   "outputs": [
    {
     "data": {
      "text/plain": [
       "['NAME',\n",
       " 'GEOID',\n",
       " 'B02001_001E',\n",
       " 'B02001_002E',\n",
       " 'B02001_003E',\n",
       " 'B02001_004E',\n",
       " 'B02001_005E']"
      ]
     },
     "execution_count": 51,
     "metadata": {},
     "output_type": "execute_result"
    }
   ],
   "source": [
    "['NAME', 'GEOID'] + race_ids"
   ]
  },
  {
   "cell_type": "code",
   "execution_count": null,
   "metadata": {
    "collapsed": true
   },
   "outputs": [],
   "source": []
  }
 ],
 "metadata": {
  "kernelspec": {
   "display_name": "Python 3",
   "language": "python",
   "name": "python3"
  },
  "language_info": {
   "codemirror_mode": {
    "name": "ipython",
    "version": 3
   },
   "file_extension": ".py",
   "mimetype": "text/x-python",
   "name": "python",
   "nbconvert_exporter": "python",
   "pygments_lexer": "ipython3",
   "version": "3.5.1"
  }
 },
 "nbformat": 4,
 "nbformat_minor": 0
}
