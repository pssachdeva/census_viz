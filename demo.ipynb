{
 "cells": [
  {
   "cell_type": "code",
   "execution_count": 3,
   "metadata": {
    "collapsed": true
   },
   "outputs": [],
   "source": [
    "import cenpy as c\n",
    "import pandas as pd\n",
    "import matplotlib.pyplot as plt\n",
    "%matplotlib inline"
   ]
  },
  {
   "cell_type": "markdown",
   "metadata": {},
   "source": [
    "Cenpy gives us access to a variety of US Census databases. We can see which ones via the `explorer` module:"
   ]
  },
  {
   "cell_type": "code",
   "execution_count": 7,
   "metadata": {
    "collapsed": false,
    "scrolled": false
   },
   "outputs": [
    {
     "name": "stdout",
     "output_type": "stream",
     "text": [
      "Number of databases:  262\n",
      "First five databases:  ['CBP2000', 'CPSPoverty', 'ACSFlows2014', 'ACSDT1Y2016', 'EITSMWTS']\n"
     ]
    }
   ],
   "source": [
    "dbs = c.explorer.available()\n",
    "print('Number of databases: ', len(dbs))\n",
    "print('First five databases: ', dbs[:5])"
   ]
  },
  {
   "cell_type": "markdown",
   "metadata": {},
   "source": [
    "We're going to look at the database called `ACSSF5Y2056`. This is the American Community Survey Summary File, providing 5 year estimates from 2011-2015. The `explorer` module provides us a method to access a detailed description of the database:"
   ]
  },
  {
   "cell_type": "code",
   "execution_count": 15,
   "metadata": {
    "collapsed": false
   },
   "outputs": [
    {
     "data": {
      "text/plain": [
       "{'2011-2015 American Community Survey 5-Year Estimates': 'The American Community Survey (ACS) is an ongoing survey that provides data every year -- giving communities the current information they need to plan investments and services. The ACS covers a broad range of topics about social, economic, demographic, and housing characteristics of the U.S. population.  Summary files include the following geographies: nation, all states (including DC and Puerto Rico), all metropolitan areas, all congressional districts (114th congress), all counties, all places, and all tracts and block groups.  Summary files contain the most detailed cross-tabulations, many of which are published down to block groups. The data are population and housing counts. There are over 64,000 variables in this dataset.'}"
      ]
     },
     "execution_count": 15,
     "metadata": {},
     "output_type": "execute_result"
    }
   ],
   "source": [
    "acs_db = 'ACSSF5Y2015'\n",
    "c.explorer.explain(acs_db)"
   ]
  },
  {
   "cell_type": "markdown",
   "metadata": {},
   "source": [
    "To access data from this database, we need to establish a connection to the US Census Bureau server. This might take a few seconds."
   ]
  },
  {
   "cell_type": "code",
   "execution_count": 17,
   "metadata": {
    "collapsed": false
   },
   "outputs": [],
   "source": [
    "connection = c.base.Connection(acs_db)"
   ]
  },
  {
   "cell_type": "markdown",
   "metadata": {},
   "source": [
    "The `geographies` dataframe provides the FIPS codes for each type of region defined by the Census Bureau. The first column indicates the `geoLevelId`, which is the unique identifier for a specific type of region. The `name` column describes that region, and the `requires` column describes the regions that our specific geographic ID needs before it can be specified. For example, the geo ID 150 specifies a block group, and it requires a state, county, and tract ID."
   ]
  },
  {
   "cell_type": "code",
   "execution_count": 30,
   "metadata": {
    "collapsed": false,
    "scrolled": false
   },
   "outputs": [
    {
     "data": {
      "text/html": [
       "<div>\n",
       "<style scoped>\n",
       "    .dataframe tbody tr th:only-of-type {\n",
       "        vertical-align: middle;\n",
       "    }\n",
       "\n",
       "    .dataframe tbody tr th {\n",
       "        vertical-align: top;\n",
       "    }\n",
       "\n",
       "    .dataframe thead th {\n",
       "        text-align: right;\n",
       "    }\n",
       "</style>\n",
       "<table border=\"1\" class=\"dataframe\">\n",
       "  <thead>\n",
       "    <tr style=\"text-align: right;\">\n",
       "      <th></th>\n",
       "      <th>geoLevelId</th>\n",
       "      <th>name</th>\n",
       "      <th>optionalWithWCFor</th>\n",
       "      <th>requires</th>\n",
       "      <th>wildcard</th>\n",
       "    </tr>\n",
       "  </thead>\n",
       "  <tbody>\n",
       "    <tr>\n",
       "      <th>22</th>\n",
       "      <td>150</td>\n",
       "      <td>block group</td>\n",
       "      <td>tract</td>\n",
       "      <td>[state, county, tract]</td>\n",
       "      <td>[tract]</td>\n",
       "    </tr>\n",
       "  </tbody>\n",
       "</table>\n",
       "</div>"
      ],
      "text/plain": [
       "   geoLevelId         name optionalWithWCFor                requires wildcard\n",
       "22        150  block group             tract  [state, county, tract]  [tract]"
      ]
     },
     "execution_count": 30,
     "metadata": {},
     "output_type": "execute_result"
    }
   ],
   "source": [
    "geographies = connection.geographies['fips']\n",
    "geographies[geographies.geoLevelId == '150']"
   ]
  },
  {
   "cell_type": "markdown",
   "metadata": {},
   "source": [
    "We have a mechanism for identifying geographies. Next, we need to choose specific data that we're interested in. That's given by the `variables` dataframe:"
   ]
  },
  {
   "cell_type": "code",
   "execution_count": 34,
   "metadata": {
    "collapsed": false
   },
   "outputs": [
    {
     "data": {
      "text/html": [
       "<div>\n",
       "<style scoped>\n",
       "    .dataframe tbody tr th:only-of-type {\n",
       "        vertical-align: middle;\n",
       "    }\n",
       "\n",
       "    .dataframe tbody tr th {\n",
       "        vertical-align: top;\n",
       "    }\n",
       "\n",
       "    .dataframe thead th {\n",
       "        text-align: right;\n",
       "    }\n",
       "</style>\n",
       "<table border=\"1\" class=\"dataframe\">\n",
       "  <thead>\n",
       "    <tr style=\"text-align: right;\">\n",
       "      <th></th>\n",
       "      <th>concept</th>\n",
       "      <th>group</th>\n",
       "      <th>label</th>\n",
       "      <th>limit</th>\n",
       "      <th>predicateOnly</th>\n",
       "      <th>predicateType</th>\n",
       "      <th>required</th>\n",
       "      <th>validValues</th>\n",
       "    </tr>\n",
       "  </thead>\n",
       "  <tbody>\n",
       "    <tr>\n",
       "      <th>AIANHH</th>\n",
       "      <td>Selectable Geographies</td>\n",
       "      <td>N/A</td>\n",
       "      <td>FIPS AIANHH code</td>\n",
       "      <td>0</td>\n",
       "      <td>NaN</td>\n",
       "      <td>NaN</td>\n",
       "      <td>NaN</td>\n",
       "      <td>[]</td>\n",
       "    </tr>\n",
       "    <tr>\n",
       "      <th>AIHHTLI</th>\n",
       "      <td>Selectable Geographies</td>\n",
       "      <td>N/A</td>\n",
       "      <td>American Indian Trust Land/Hawaiian Home Land ...</td>\n",
       "      <td>0</td>\n",
       "      <td>NaN</td>\n",
       "      <td>NaN</td>\n",
       "      <td>NaN</td>\n",
       "      <td>[]</td>\n",
       "    </tr>\n",
       "    <tr>\n",
       "      <th>AITS</th>\n",
       "      <td>Selectable Geographies</td>\n",
       "      <td>N/A</td>\n",
       "      <td>American Indian Tribal Subdivision (FIPS)</td>\n",
       "      <td>0</td>\n",
       "      <td>NaN</td>\n",
       "      <td>NaN</td>\n",
       "      <td>NaN</td>\n",
       "      <td>[]</td>\n",
       "    </tr>\n",
       "    <tr>\n",
       "      <th>AITSCE</th>\n",
       "      <td>Selectable Geographies</td>\n",
       "      <td>N/A</td>\n",
       "      <td>American Indian Tribal Subdivision (Census)</td>\n",
       "      <td>0</td>\n",
       "      <td>NaN</td>\n",
       "      <td>NaN</td>\n",
       "      <td>NaN</td>\n",
       "      <td>[]</td>\n",
       "    </tr>\n",
       "    <tr>\n",
       "      <th>ANRC</th>\n",
       "      <td>Selectable Geographies</td>\n",
       "      <td>N/A</td>\n",
       "      <td>Alaska Native Regional Corporation (FIPS)</td>\n",
       "      <td>0</td>\n",
       "      <td>NaN</td>\n",
       "      <td>NaN</td>\n",
       "      <td>NaN</td>\n",
       "      <td>[]</td>\n",
       "    </tr>\n",
       "    <tr>\n",
       "      <th>B00001_001E</th>\n",
       "      <td>B00001.  Unweighted Sample Count of the Popula...</td>\n",
       "      <td>N/A</td>\n",
       "      <td>Total</td>\n",
       "      <td>0</td>\n",
       "      <td>NaN</td>\n",
       "      <td>int</td>\n",
       "      <td>NaN</td>\n",
       "      <td>[]</td>\n",
       "    </tr>\n",
       "    <tr>\n",
       "      <th>B00001_001M</th>\n",
       "      <td>B00001.  Unweighted Sample Count of the Popula...</td>\n",
       "      <td>N/A</td>\n",
       "      <td>Margin Of Error For!!Total</td>\n",
       "      <td>0</td>\n",
       "      <td>NaN</td>\n",
       "      <td>int</td>\n",
       "      <td>NaN</td>\n",
       "      <td>[]</td>\n",
       "    </tr>\n",
       "    <tr>\n",
       "      <th>B00002_001E</th>\n",
       "      <td>B00002.  Unweighted Sample Housing Units</td>\n",
       "      <td>N/A</td>\n",
       "      <td>Total</td>\n",
       "      <td>0</td>\n",
       "      <td>NaN</td>\n",
       "      <td>int</td>\n",
       "      <td>NaN</td>\n",
       "      <td>[]</td>\n",
       "    </tr>\n",
       "    <tr>\n",
       "      <th>B00002_001M</th>\n",
       "      <td>B00002.  Unweighted Sample Housing Units</td>\n",
       "      <td>N/A</td>\n",
       "      <td>Margin Of Error For!!Total</td>\n",
       "      <td>0</td>\n",
       "      <td>NaN</td>\n",
       "      <td>int</td>\n",
       "      <td>NaN</td>\n",
       "      <td>[]</td>\n",
       "    </tr>\n",
       "    <tr>\n",
       "      <th>B01001A_001E</th>\n",
       "      <td>B01001A.  SEX BY AGE (WHITE ALONE)</td>\n",
       "      <td>N/A</td>\n",
       "      <td>Total:</td>\n",
       "      <td>0</td>\n",
       "      <td>NaN</td>\n",
       "      <td>int</td>\n",
       "      <td>NaN</td>\n",
       "      <td>[]</td>\n",
       "    </tr>\n",
       "  </tbody>\n",
       "</table>\n",
       "</div>"
      ],
      "text/plain": [
       "                                                        concept group  \\\n",
       "AIANHH                                   Selectable Geographies   N/A   \n",
       "AIHHTLI                                  Selectable Geographies   N/A   \n",
       "AITS                                     Selectable Geographies   N/A   \n",
       "AITSCE                                   Selectable Geographies   N/A   \n",
       "ANRC                                     Selectable Geographies   N/A   \n",
       "B00001_001E   B00001.  Unweighted Sample Count of the Popula...   N/A   \n",
       "B00001_001M   B00001.  Unweighted Sample Count of the Popula...   N/A   \n",
       "B00002_001E            B00002.  Unweighted Sample Housing Units   N/A   \n",
       "B00002_001M            B00002.  Unweighted Sample Housing Units   N/A   \n",
       "B01001A_001E                 B01001A.  SEX BY AGE (WHITE ALONE)   N/A   \n",
       "\n",
       "                                                          label limit  \\\n",
       "AIANHH                                         FIPS AIANHH code     0   \n",
       "AIHHTLI       American Indian Trust Land/Hawaiian Home Land ...     0   \n",
       "AITS                  American Indian Tribal Subdivision (FIPS)     0   \n",
       "AITSCE              American Indian Tribal Subdivision (Census)     0   \n",
       "ANRC                  Alaska Native Regional Corporation (FIPS)     0   \n",
       "B00001_001E                                               Total     0   \n",
       "B00001_001M                          Margin Of Error For!!Total     0   \n",
       "B00002_001E                                               Total     0   \n",
       "B00002_001M                          Margin Of Error For!!Total     0   \n",
       "B01001A_001E                                             Total:     0   \n",
       "\n",
       "             predicateOnly predicateType required validValues  \n",
       "AIANHH                 NaN           NaN      NaN          []  \n",
       "AIHHTLI                NaN           NaN      NaN          []  \n",
       "AITS                   NaN           NaN      NaN          []  \n",
       "AITSCE                 NaN           NaN      NaN          []  \n",
       "ANRC                   NaN           NaN      NaN          []  \n",
       "B00001_001E            NaN           int      NaN          []  \n",
       "B00001_001M            NaN           int      NaN          []  \n",
       "B00002_001E            NaN           int      NaN          []  \n",
       "B00002_001M            NaN           int      NaN          []  \n",
       "B01001A_001E           NaN           int      NaN          []  "
      ]
     },
     "execution_count": 34,
     "metadata": {},
     "output_type": "execute_result"
    }
   ],
   "source": [
    "variables = connection.variables\n",
    "variables.head(10)"
   ]
  },
  {
   "cell_type": "markdown",
   "metadata": {},
   "source": [
    "Let's focus on `B00001_001E`. The `concept` column provides more information on it:"
   ]
  },
  {
   "cell_type": "code",
   "execution_count": 43,
   "metadata": {
    "collapsed": false
   },
   "outputs": [
    {
     "name": "stdout",
     "output_type": "stream",
     "text": [
      "B00001.  Unweighted Sample Count of the Population\n"
     ]
    }
   ],
   "source": [
    "col = 'B00001_001E'\n",
    "print(variables.loc[col].concept)"
   ]
  },
  {
   "cell_type": "markdown",
   "metadata": {},
   "source": [
    "Our goal now is to grab the population sample counts in all the block groups of Alameda County. To do this, we need the FIPS IDs for California and Alameda - they're 06 and 001, respectively. We'll access the data via the query function. It requires a `geo_unit`, which is the name for the geographic level that we'd like to access the data at (it'll be `'block group'`) and a `geo_filter`, which is a dictionary of all the required elements. While block groups require a state, county, and tract, we're only going to provide the first two. "
   ]
  },
  {
   "cell_type": "code",
   "execution_count": 45,
   "metadata": {
    "collapsed": true
   },
   "outputs": [],
   "source": [
    "geo_unit = 'block group'\n",
    "geo_filter = {'state' : '06', 'county' : '001'}"
   ]
  },
  {
   "cell_type": "code",
   "execution_count": 47,
   "metadata": {
    "collapsed": false
   },
   "outputs": [
    {
     "name": "stderr",
     "output_type": "stream",
     "text": [
      "/usr/local/lib/python3.5/site-packages/cenpy/remote.py:172: FutureWarning: convert_objects is deprecated.  To re-infer data dtypes for object columns, use DataFrame.infer_objects()\n",
      "For all other conversions use the data-type specific converters pd.to_datetime, pd.to_timedelta and pd.to_numeric.\n",
      "  df[cols] = df[cols].convert_objects(convert_numeric=convert_numeric)\n"
     ]
    },
    {
     "data": {
      "text/html": [
       "<div>\n",
       "<style scoped>\n",
       "    .dataframe tbody tr th:only-of-type {\n",
       "        vertical-align: middle;\n",
       "    }\n",
       "\n",
       "    .dataframe tbody tr th {\n",
       "        vertical-align: top;\n",
       "    }\n",
       "\n",
       "    .dataframe thead th {\n",
       "        text-align: right;\n",
       "    }\n",
       "</style>\n",
       "<table border=\"1\" class=\"dataframe\">\n",
       "  <thead>\n",
       "    <tr style=\"text-align: right;\">\n",
       "      <th></th>\n",
       "      <th>NAME</th>\n",
       "      <th>B00001_001E</th>\n",
       "      <th>state</th>\n",
       "      <th>county</th>\n",
       "      <th>tract</th>\n",
       "      <th>block group</th>\n",
       "    </tr>\n",
       "  </thead>\n",
       "  <tbody>\n",
       "    <tr>\n",
       "      <th>0</th>\n",
       "      <td>Block Group 1, Census Tract 4001, Alameda Coun...</td>\n",
       "      <td>301.0</td>\n",
       "      <td>06</td>\n",
       "      <td>001</td>\n",
       "      <td>400100</td>\n",
       "      <td>1</td>\n",
       "    </tr>\n",
       "    <tr>\n",
       "      <th>1</th>\n",
       "      <td>Block Group 1, Census Tract 4002, Alameda Coun...</td>\n",
       "      <td>186.0</td>\n",
       "      <td>06</td>\n",
       "      <td>001</td>\n",
       "      <td>400200</td>\n",
       "      <td>1</td>\n",
       "    </tr>\n",
       "    <tr>\n",
       "      <th>2</th>\n",
       "      <td>Block Group 2, Census Tract 4002, Alameda Coun...</td>\n",
       "      <td>142.0</td>\n",
       "      <td>06</td>\n",
       "      <td>001</td>\n",
       "      <td>400200</td>\n",
       "      <td>2</td>\n",
       "    </tr>\n",
       "    <tr>\n",
       "      <th>3</th>\n",
       "      <td>Block Group 1, Census Tract 4003, Alameda Coun...</td>\n",
       "      <td>63.0</td>\n",
       "      <td>06</td>\n",
       "      <td>001</td>\n",
       "      <td>400300</td>\n",
       "      <td>1</td>\n",
       "    </tr>\n",
       "    <tr>\n",
       "      <th>4</th>\n",
       "      <td>Block Group 2, Census Tract 4003, Alameda Coun...</td>\n",
       "      <td>94.0</td>\n",
       "      <td>06</td>\n",
       "      <td>001</td>\n",
       "      <td>400300</td>\n",
       "      <td>2</td>\n",
       "    </tr>\n",
       "    <tr>\n",
       "      <th>5</th>\n",
       "      <td>Block Group 3, Census Tract 4003, Alameda Coun...</td>\n",
       "      <td>49.0</td>\n",
       "      <td>06</td>\n",
       "      <td>001</td>\n",
       "      <td>400300</td>\n",
       "      <td>3</td>\n",
       "    </tr>\n",
       "    <tr>\n",
       "      <th>6</th>\n",
       "      <td>Block Group 4, Census Tract 4003, Alameda Coun...</td>\n",
       "      <td>94.0</td>\n",
       "      <td>06</td>\n",
       "      <td>001</td>\n",
       "      <td>400300</td>\n",
       "      <td>4</td>\n",
       "    </tr>\n",
       "    <tr>\n",
       "      <th>7</th>\n",
       "      <td>Block Group 1, Census Tract 4004, Alameda Coun...</td>\n",
       "      <td>134.0</td>\n",
       "      <td>06</td>\n",
       "      <td>001</td>\n",
       "      <td>400400</td>\n",
       "      <td>1</td>\n",
       "    </tr>\n",
       "    <tr>\n",
       "      <th>8</th>\n",
       "      <td>Block Group 2, Census Tract 4004, Alameda Coun...</td>\n",
       "      <td>111.0</td>\n",
       "      <td>06</td>\n",
       "      <td>001</td>\n",
       "      <td>400400</td>\n",
       "      <td>2</td>\n",
       "    </tr>\n",
       "    <tr>\n",
       "      <th>9</th>\n",
       "      <td>Block Group 3, Census Tract 4004, Alameda Coun...</td>\n",
       "      <td>117.0</td>\n",
       "      <td>06</td>\n",
       "      <td>001</td>\n",
       "      <td>400400</td>\n",
       "      <td>3</td>\n",
       "    </tr>\n",
       "  </tbody>\n",
       "</table>\n",
       "</div>"
      ],
      "text/plain": [
       "                                                NAME  B00001_001E state  \\\n",
       "0  Block Group 1, Census Tract 4001, Alameda Coun...        301.0    06   \n",
       "1  Block Group 1, Census Tract 4002, Alameda Coun...        186.0    06   \n",
       "2  Block Group 2, Census Tract 4002, Alameda Coun...        142.0    06   \n",
       "3  Block Group 1, Census Tract 4003, Alameda Coun...         63.0    06   \n",
       "4  Block Group 2, Census Tract 4003, Alameda Coun...         94.0    06   \n",
       "5  Block Group 3, Census Tract 4003, Alameda Coun...         49.0    06   \n",
       "6  Block Group 4, Census Tract 4003, Alameda Coun...         94.0    06   \n",
       "7  Block Group 1, Census Tract 4004, Alameda Coun...        134.0    06   \n",
       "8  Block Group 2, Census Tract 4004, Alameda Coun...        111.0    06   \n",
       "9  Block Group 3, Census Tract 4004, Alameda Coun...        117.0    06   \n",
       "\n",
       "  county   tract block group  \n",
       "0    001  400100           1  \n",
       "1    001  400200           1  \n",
       "2    001  400200           2  \n",
       "3    001  400300           1  \n",
       "4    001  400300           2  \n",
       "5    001  400300           3  \n",
       "6    001  400300           4  \n",
       "7    001  400400           1  \n",
       "8    001  400400           2  \n",
       "9    001  400400           3  "
      ]
     },
     "execution_count": 47,
     "metadata": {},
     "output_type": "execute_result"
    }
   ],
   "source": [
    "db_query = connection.query(cols=['NAME', col], geo_unit=geo_unit, geo_filter=geo_filter)\n",
    "db_query.head(10)"
   ]
  },
  {
   "cell_type": "markdown",
   "metadata": {},
   "source": [
    "We've queried the name of the geographic region along with the population count in that region. We can plot a histogram of counts: "
   ]
  },
  {
   "cell_type": "code",
   "execution_count": 51,
   "metadata": {
    "collapsed": false
   },
   "outputs": [
    {
     "data": {
      "image/png": "[encoded data removed]",
      "text/plain": [
       "<matplotlib.figure.Figure at 0x10ff329e8>"
      ]
     },
     "metadata": {},
     "output_type": "display_data"
    }
   ],
   "source": [
    "plt.hist(db_query[col].loc[db_query[col].notnull()])\n",
    "plt.xlabel('Population in Block Group')\n",
    "plt.ylabel('Frequency')\n",
    "plt.show()"
   ]
  },
  {
   "cell_type": "code",
   "execution_count": null,
   "metadata": {
    "collapsed": true
   },
   "outputs": [],
   "source": []
  }
 ],
 "metadata": {
  "kernelspec": {
   "display_name": "Python 3",
   "language": "python",
   "name": "python3"
  },
  "language_info": {
   "codemirror_mode": {
    "name": "ipython",
    "version": 3
   },
   "file_extension": ".py",
   "mimetype": "text/x-python",
   "name": "python",
   "nbconvert_exporter": "python",
   "pygments_lexer": "ipython3",
   "version": "3.5.1"
  }
 },
 "nbformat": 4,
 "nbformat_minor": 0
}
