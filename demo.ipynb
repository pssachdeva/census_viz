{
 "cells": [
  {
   "cell_type": "code",
   "execution_count": 40,
   "metadata": {
    "collapsed": true
   },
   "outputs": [],
   "source": [
    "import cenpy as c\n",
    "import pandas as pd\n",
    "import matplotlib.pyplot as plt\n",
    "import geopandas as gpd\n",
    "%matplotlib inline"
   ]
  },
  {
   "cell_type": "markdown",
   "metadata": {},
   "source": [
    "Cenpy gives us access to a variety of US Census databases. We can see which ones via the `explorer` module:"
   ]
  },
  {
   "cell_type": "code",
   "execution_count": 2,
   "metadata": {
    "scrolled": false
   },
   "outputs": [
    {
     "name": "stdout",
     "output_type": "stream",
     "text": [
      "Number of databases:  262\n",
      "First five databases:  ['CBP2011', 'ACSProfile2014', 'POPESTintercensalhousing2000', 'ACSProfile5Y2013', 'CBP1989']\n"
     ]
    }
   ],
   "source": [
    "dbs = c.explorer.available()\n",
    "print('Number of databases: ', len(dbs))\n",
    "print('First five databases: ', dbs[:5])"
   ]
  },
  {
   "cell_type": "markdown",
   "metadata": {},
   "source": [
    "We're going to look at the database called `ACSSF5Y2056`. This is the American Community Survey Summary File, providing 5 year estimates from 2011-2015. The `explorer` module provides us a method to access a detailed description of the database:"
   ]
  },
  {
   "cell_type": "code",
   "execution_count": 3,
   "metadata": {},
   "outputs": [
    {
     "data": {
      "text/plain": [
       "{'2011-2015 American Community Survey 5-Year Estimates': 'The American Community Survey (ACS) is an ongoing survey that provides data every year -- giving communities the current information they need to plan investments and services. The ACS covers a broad range of topics about social, economic, demographic, and housing characteristics of the U.S. population.  Summary files include the following geographies: nation, all states (including DC and Puerto Rico), all metropolitan areas, all congressional districts (114th congress), all counties, all places, and all tracts and block groups.  Summary files contain the most detailed cross-tabulations, many of which are published down to block groups. The data are population and housing counts. There are over 64,000 variables in this dataset.'}"
      ]
     },
     "execution_count": 3,
     "metadata": {},
     "output_type": "execute_result"
    }
   ],
   "source": [
    "acs_db = 'ACSSF5Y2015'\n",
    "c.explorer.explain(acs_db)"
   ]
  },
  {
   "cell_type": "markdown",
   "metadata": {},
   "source": [
    "To access data from this database, we need to establish a connection to the US Census Bureau server. This might take a few seconds."
   ]
  },
  {
   "cell_type": "code",
   "execution_count": 4,
   "metadata": {},
   "outputs": [],
   "source": [
    "connection = c.base.Connection(acs_db)"
   ]
  },
  {
   "cell_type": "markdown",
   "metadata": {},
   "source": [
    "The `geographies` dataframe provides the FIPS codes for each type of region defined by the Census Bureau. The first column indicates the `geoLevelId`, which is the unique identifier for a specific type of region. The `name` column describes that region, and the `requires` column describes the regions that our specific geographic ID needs before it can be specified. For example, the geo ID 150 specifies a block group, and it requires a state, county, and tract ID."
   ]
  },
  {
   "cell_type": "code",
   "execution_count": 5,
   "metadata": {
    "scrolled": false
   },
   "outputs": [
    {
     "data": {
      "text/html": [
       "<div>\n",
       "<style scoped>\n",
       "    .dataframe tbody tr th:only-of-type {\n",
       "        vertical-align: middle;\n",
       "    }\n",
       "\n",
       "    .dataframe tbody tr th {\n",
       "        vertical-align: top;\n",
       "    }\n",
       "\n",
       "    .dataframe thead th {\n",
       "        text-align: right;\n",
       "    }\n",
       "</style>\n",
       "<table border=\"1\" class=\"dataframe\">\n",
       "  <thead>\n",
       "    <tr style=\"text-align: right;\">\n",
       "      <th></th>\n",
       "      <th>geoLevelId</th>\n",
       "      <th>name</th>\n",
       "      <th>optionalWithWCFor</th>\n",
       "      <th>requires</th>\n",
       "      <th>wildcard</th>\n",
       "    </tr>\n",
       "  </thead>\n",
       "  <tbody>\n",
       "    <tr>\n",
       "      <th>22</th>\n",
       "      <td>150</td>\n",
       "      <td>block group</td>\n",
       "      <td>tract</td>\n",
       "      <td>[state, county, tract]</td>\n",
       "      <td>[tract]</td>\n",
       "    </tr>\n",
       "  </tbody>\n",
       "</table>\n",
       "</div>"
      ],
      "text/plain": [
       "   geoLevelId         name optionalWithWCFor                requires wildcard\n",
       "22        150  block group             tract  [state, county, tract]  [tract]"
      ]
     },
     "execution_count": 5,
     "metadata": {},
     "output_type": "execute_result"
    }
   ],
   "source": [
    "geographies = connection.geographies['fips']\n",
    "geographies[geographies.geoLevelId == '150']"
   ]
  },
  {
   "cell_type": "markdown",
   "metadata": {},
   "source": [
    "We have a mechanism for identifying geographies. Next, we need to choose specific data that we're interested in. That's given by the `variables` dataframe:"
   ]
  },
  {
   "cell_type": "code",
   "execution_count": 6,
   "metadata": {},
   "outputs": [
    {
     "data": {
      "text/html": [
       "<div>\n",
       "<style scoped>\n",
       "    .dataframe tbody tr th:only-of-type {\n",
       "        vertical-align: middle;\n",
       "    }\n",
       "\n",
       "    .dataframe tbody tr th {\n",
       "        vertical-align: top;\n",
       "    }\n",
       "\n",
       "    .dataframe thead th {\n",
       "        text-align: right;\n",
       "    }\n",
       "</style>\n",
       "<table border=\"1\" class=\"dataframe\">\n",
       "  <thead>\n",
       "    <tr style=\"text-align: right;\">\n",
       "      <th></th>\n",
       "      <th>concept</th>\n",
       "      <th>group</th>\n",
       "      <th>label</th>\n",
       "      <th>limit</th>\n",
       "      <th>predicateOnly</th>\n",
       "      <th>predicateType</th>\n",
       "      <th>required</th>\n",
       "      <th>validValues</th>\n",
       "    </tr>\n",
       "  </thead>\n",
       "  <tbody>\n",
       "    <tr>\n",
       "      <th>AIANHH</th>\n",
       "      <td>Selectable Geographies</td>\n",
       "      <td>N/A</td>\n",
       "      <td>FIPS AIANHH code</td>\n",
       "      <td>0</td>\n",
       "      <td>NaN</td>\n",
       "      <td>NaN</td>\n",
       "      <td>NaN</td>\n",
       "      <td>[]</td>\n",
       "    </tr>\n",
       "    <tr>\n",
       "      <th>AIHHTLI</th>\n",
       "      <td>Selectable Geographies</td>\n",
       "      <td>N/A</td>\n",
       "      <td>American Indian Trust Land/Hawaiian Home Land ...</td>\n",
       "      <td>0</td>\n",
       "      <td>NaN</td>\n",
       "      <td>NaN</td>\n",
       "      <td>NaN</td>\n",
       "      <td>[]</td>\n",
       "    </tr>\n",
       "    <tr>\n",
       "      <th>AITS</th>\n",
       "      <td>Selectable Geographies</td>\n",
       "      <td>N/A</td>\n",
       "      <td>American Indian Tribal Subdivision (FIPS)</td>\n",
       "      <td>0</td>\n",
       "      <td>NaN</td>\n",
       "      <td>NaN</td>\n",
       "      <td>NaN</td>\n",
       "      <td>[]</td>\n",
       "    </tr>\n",
       "    <tr>\n",
       "      <th>AITSCE</th>\n",
       "      <td>Selectable Geographies</td>\n",
       "      <td>N/A</td>\n",
       "      <td>American Indian Tribal Subdivision (Census)</td>\n",
       "      <td>0</td>\n",
       "      <td>NaN</td>\n",
       "      <td>NaN</td>\n",
       "      <td>NaN</td>\n",
       "      <td>[]</td>\n",
       "    </tr>\n",
       "    <tr>\n",
       "      <th>ANRC</th>\n",
       "      <td>Selectable Geographies</td>\n",
       "      <td>N/A</td>\n",
       "      <td>Alaska Native Regional Corporation (FIPS)</td>\n",
       "      <td>0</td>\n",
       "      <td>NaN</td>\n",
       "      <td>NaN</td>\n",
       "      <td>NaN</td>\n",
       "      <td>[]</td>\n",
       "    </tr>\n",
       "    <tr>\n",
       "      <th>B00001_001E</th>\n",
       "      <td>B00001.  Unweighted Sample Count of the Popula...</td>\n",
       "      <td>N/A</td>\n",
       "      <td>Total</td>\n",
       "      <td>0</td>\n",
       "      <td>NaN</td>\n",
       "      <td>int</td>\n",
       "      <td>NaN</td>\n",
       "      <td>[]</td>\n",
       "    </tr>\n",
       "    <tr>\n",
       "      <th>B00001_001M</th>\n",
       "      <td>B00001.  Unweighted Sample Count of the Popula...</td>\n",
       "      <td>N/A</td>\n",
       "      <td>Margin Of Error For!!Total</td>\n",
       "      <td>0</td>\n",
       "      <td>NaN</td>\n",
       "      <td>int</td>\n",
       "      <td>NaN</td>\n",
       "      <td>[]</td>\n",
       "    </tr>\n",
       "    <tr>\n",
       "      <th>B00002_001E</th>\n",
       "      <td>B00002.  Unweighted Sample Housing Units</td>\n",
       "      <td>N/A</td>\n",
       "      <td>Total</td>\n",
       "      <td>0</td>\n",
       "      <td>NaN</td>\n",
       "      <td>int</td>\n",
       "      <td>NaN</td>\n",
       "      <td>[]</td>\n",
       "    </tr>\n",
       "    <tr>\n",
       "      <th>B00002_001M</th>\n",
       "      <td>B00002.  Unweighted Sample Housing Units</td>\n",
       "      <td>N/A</td>\n",
       "      <td>Margin Of Error For!!Total</td>\n",
       "      <td>0</td>\n",
       "      <td>NaN</td>\n",
       "      <td>int</td>\n",
       "      <td>NaN</td>\n",
       "      <td>[]</td>\n",
       "    </tr>\n",
       "    <tr>\n",
       "      <th>B01001A_001E</th>\n",
       "      <td>B01001A.  SEX BY AGE (WHITE ALONE)</td>\n",
       "      <td>N/A</td>\n",
       "      <td>Total:</td>\n",
       "      <td>0</td>\n",
       "      <td>NaN</td>\n",
       "      <td>int</td>\n",
       "      <td>NaN</td>\n",
       "      <td>[]</td>\n",
       "    </tr>\n",
       "  </tbody>\n",
       "</table>\n",
       "</div>"
      ],
      "text/plain": [
       "                                                        concept group  \\\n",
       "AIANHH                                   Selectable Geographies   N/A   \n",
       "AIHHTLI                                  Selectable Geographies   N/A   \n",
       "AITS                                     Selectable Geographies   N/A   \n",
       "AITSCE                                   Selectable Geographies   N/A   \n",
       "ANRC                                     Selectable Geographies   N/A   \n",
       "B00001_001E   B00001.  Unweighted Sample Count of the Popula...   N/A   \n",
       "B00001_001M   B00001.  Unweighted Sample Count of the Popula...   N/A   \n",
       "B00002_001E            B00002.  Unweighted Sample Housing Units   N/A   \n",
       "B00002_001M            B00002.  Unweighted Sample Housing Units   N/A   \n",
       "B01001A_001E                 B01001A.  SEX BY AGE (WHITE ALONE)   N/A   \n",
       "\n",
       "                                                          label limit  \\\n",
       "AIANHH                                         FIPS AIANHH code     0   \n",
       "AIHHTLI       American Indian Trust Land/Hawaiian Home Land ...     0   \n",
       "AITS                  American Indian Tribal Subdivision (FIPS)     0   \n",
       "AITSCE              American Indian Tribal Subdivision (Census)     0   \n",
       "ANRC                  Alaska Native Regional Corporation (FIPS)     0   \n",
       "B00001_001E                                               Total     0   \n",
       "B00001_001M                          Margin Of Error For!!Total     0   \n",
       "B00002_001E                                               Total     0   \n",
       "B00002_001M                          Margin Of Error For!!Total     0   \n",
       "B01001A_001E                                             Total:     0   \n",
       "\n",
       "             predicateOnly predicateType required validValues  \n",
       "AIANHH                 NaN           NaN      NaN          []  \n",
       "AIHHTLI                NaN           NaN      NaN          []  \n",
       "AITS                   NaN           NaN      NaN          []  \n",
       "AITSCE                 NaN           NaN      NaN          []  \n",
       "ANRC                   NaN           NaN      NaN          []  \n",
       "B00001_001E            NaN           int      NaN          []  \n",
       "B00001_001M            NaN           int      NaN          []  \n",
       "B00002_001E            NaN           int      NaN          []  \n",
       "B00002_001M            NaN           int      NaN          []  \n",
       "B01001A_001E           NaN           int      NaN          []  "
      ]
     },
     "execution_count": 6,
     "metadata": {},
     "output_type": "execute_result"
    }
   ],
   "source": [
    "variables = connection.variables\n",
    "variables.head(10)"
   ]
  },
  {
   "cell_type": "markdown",
   "metadata": {},
   "source": [
    "Let's focus on `B00001_001E`. The `concept` column provides more information on it:"
   ]
  },
  {
   "cell_type": "code",
   "execution_count": 7,
   "metadata": {},
   "outputs": [
    {
     "name": "stdout",
     "output_type": "stream",
     "text": [
      "B00001.  Unweighted Sample Count of the Population\n"
     ]
    }
   ],
   "source": [
    "col = 'B00001_001E'\n",
    "print(variables.loc[col].concept)"
   ]
  },
  {
   "cell_type": "markdown",
   "metadata": {},
   "source": [
    "Our goal now is to grab the population sample counts in all the block groups of Alameda County. To do this, we need the FIPS IDs for California and Alameda - they're 06 and 001, respectively. We'll access the data via the query function. It requires a `geo_unit`, which is the name for the geographic level that we'd like to access the data at (it'll be `'block group'`) and a `geo_filter`, which is a dictionary of all the required elements. While block groups require a state, county, and tract, we're only going to provide the first two. "
   ]
  },
  {
   "cell_type": "code",
   "execution_count": 27,
   "metadata": {
    "collapsed": true
   },
   "outputs": [],
   "source": [
    "geo_unit = 'block group'\n",
    "geo_filter = {'state' : '06', 'county' : '001'}"
   ]
  },
  {
   "cell_type": "code",
   "execution_count": 30,
   "metadata": {},
   "outputs": [
    {
     "name": "stderr",
     "output_type": "stream",
     "text": [
      "/usr/local/lib/python3.5/site-packages/cenpy/remote.py:172: FutureWarning: convert_objects is deprecated.  To re-infer data dtypes for object columns, use DataFrame.infer_objects()\n",
      "For all other conversions use the data-type specific converters pd.to_datetime, pd.to_timedelta and pd.to_numeric.\n",
      "  df[cols] = df[cols].convert_objects(convert_numeric=convert_numeric)\n"
     ]
    },
    {
     "data": {
      "text/html": [
       "<div>\n",
       "<style scoped>\n",
       "    .dataframe tbody tr th:only-of-type {\n",
       "        vertical-align: middle;\n",
       "    }\n",
       "\n",
       "    .dataframe tbody tr th {\n",
       "        vertical-align: top;\n",
       "    }\n",
       "\n",
       "    .dataframe thead th {\n",
       "        text-align: right;\n",
       "    }\n",
       "</style>\n",
       "<table border=\"1\" class=\"dataframe\">\n",
       "  <thead>\n",
       "    <tr style=\"text-align: right;\">\n",
       "      <th></th>\n",
       "      <th>NAME</th>\n",
       "      <th>GEOID</th>\n",
       "      <th>B00001_001E</th>\n",
       "      <th>state</th>\n",
       "      <th>county</th>\n",
       "      <th>tract</th>\n",
       "      <th>block group</th>\n",
       "    </tr>\n",
       "    <tr>\n",
       "      <th>GEOID</th>\n",
       "      <th></th>\n",
       "      <th></th>\n",
       "      <th></th>\n",
       "      <th></th>\n",
       "      <th></th>\n",
       "      <th></th>\n",
       "      <th></th>\n",
       "    </tr>\n",
       "  </thead>\n",
       "  <tbody>\n",
       "    <tr>\n",
       "      <th>060014001001</th>\n",
       "      <td>Block Group 1, Census Tract 4001, Alameda Coun...</td>\n",
       "      <td>15000US060014001001</td>\n",
       "      <td>301.0</td>\n",
       "      <td>06</td>\n",
       "      <td>001</td>\n",
       "      <td>400100</td>\n",
       "      <td>1</td>\n",
       "    </tr>\n",
       "    <tr>\n",
       "      <th>060014002001</th>\n",
       "      <td>Block Group 1, Census Tract 4002, Alameda Coun...</td>\n",
       "      <td>15000US060014002001</td>\n",
       "      <td>186.0</td>\n",
       "      <td>06</td>\n",
       "      <td>001</td>\n",
       "      <td>400200</td>\n",
       "      <td>1</td>\n",
       "    </tr>\n",
       "    <tr>\n",
       "      <th>060014002002</th>\n",
       "      <td>Block Group 2, Census Tract 4002, Alameda Coun...</td>\n",
       "      <td>15000US060014002002</td>\n",
       "      <td>142.0</td>\n",
       "      <td>06</td>\n",
       "      <td>001</td>\n",
       "      <td>400200</td>\n",
       "      <td>2</td>\n",
       "    </tr>\n",
       "    <tr>\n",
       "      <th>060014003001</th>\n",
       "      <td>Block Group 1, Census Tract 4003, Alameda Coun...</td>\n",
       "      <td>15000US060014003001</td>\n",
       "      <td>63.0</td>\n",
       "      <td>06</td>\n",
       "      <td>001</td>\n",
       "      <td>400300</td>\n",
       "      <td>1</td>\n",
       "    </tr>\n",
       "    <tr>\n",
       "      <th>060014003002</th>\n",
       "      <td>Block Group 2, Census Tract 4003, Alameda Coun...</td>\n",
       "      <td>15000US060014003002</td>\n",
       "      <td>94.0</td>\n",
       "      <td>06</td>\n",
       "      <td>001</td>\n",
       "      <td>400300</td>\n",
       "      <td>2</td>\n",
       "    </tr>\n",
       "    <tr>\n",
       "      <th>060014003003</th>\n",
       "      <td>Block Group 3, Census Tract 4003, Alameda Coun...</td>\n",
       "      <td>15000US060014003003</td>\n",
       "      <td>49.0</td>\n",
       "      <td>06</td>\n",
       "      <td>001</td>\n",
       "      <td>400300</td>\n",
       "      <td>3</td>\n",
       "    </tr>\n",
       "    <tr>\n",
       "      <th>060014003004</th>\n",
       "      <td>Block Group 4, Census Tract 4003, Alameda Coun...</td>\n",
       "      <td>15000US060014003004</td>\n",
       "      <td>94.0</td>\n",
       "      <td>06</td>\n",
       "      <td>001</td>\n",
       "      <td>400300</td>\n",
       "      <td>4</td>\n",
       "    </tr>\n",
       "    <tr>\n",
       "      <th>060014004001</th>\n",
       "      <td>Block Group 1, Census Tract 4004, Alameda Coun...</td>\n",
       "      <td>15000US060014004001</td>\n",
       "      <td>134.0</td>\n",
       "      <td>06</td>\n",
       "      <td>001</td>\n",
       "      <td>400400</td>\n",
       "      <td>1</td>\n",
       "    </tr>\n",
       "    <tr>\n",
       "      <th>060014004002</th>\n",
       "      <td>Block Group 2, Census Tract 4004, Alameda Coun...</td>\n",
       "      <td>15000US060014004002</td>\n",
       "      <td>111.0</td>\n",
       "      <td>06</td>\n",
       "      <td>001</td>\n",
       "      <td>400400</td>\n",
       "      <td>2</td>\n",
       "    </tr>\n",
       "    <tr>\n",
       "      <th>060014004003</th>\n",
       "      <td>Block Group 3, Census Tract 4004, Alameda Coun...</td>\n",
       "      <td>15000US060014004003</td>\n",
       "      <td>117.0</td>\n",
       "      <td>06</td>\n",
       "      <td>001</td>\n",
       "      <td>400400</td>\n",
       "      <td>3</td>\n",
       "    </tr>\n",
       "  </tbody>\n",
       "</table>\n",
       "</div>"
      ],
      "text/plain": [
       "                                                           NAME  \\\n",
       "GEOID                                                             \n",
       "060014001001  Block Group 1, Census Tract 4001, Alameda Coun...   \n",
       "060014002001  Block Group 1, Census Tract 4002, Alameda Coun...   \n",
       "060014002002  Block Group 2, Census Tract 4002, Alameda Coun...   \n",
       "060014003001  Block Group 1, Census Tract 4003, Alameda Coun...   \n",
       "060014003002  Block Group 2, Census Tract 4003, Alameda Coun...   \n",
       "060014003003  Block Group 3, Census Tract 4003, Alameda Coun...   \n",
       "060014003004  Block Group 4, Census Tract 4003, Alameda Coun...   \n",
       "060014004001  Block Group 1, Census Tract 4004, Alameda Coun...   \n",
       "060014004002  Block Group 2, Census Tract 4004, Alameda Coun...   \n",
       "060014004003  Block Group 3, Census Tract 4004, Alameda Coun...   \n",
       "\n",
       "                            GEOID  B00001_001E state county   tract  \\\n",
       "GEOID                                                                 \n",
       "060014001001  15000US060014001001        301.0    06    001  400100   \n",
       "060014002001  15000US060014002001        186.0    06    001  400200   \n",
       "060014002002  15000US060014002002        142.0    06    001  400200   \n",
       "060014003001  15000US060014003001         63.0    06    001  400300   \n",
       "060014003002  15000US060014003002         94.0    06    001  400300   \n",
       "060014003003  15000US060014003003         49.0    06    001  400300   \n",
       "060014003004  15000US060014003004         94.0    06    001  400300   \n",
       "060014004001  15000US060014004001        134.0    06    001  400400   \n",
       "060014004002  15000US060014004002        111.0    06    001  400400   \n",
       "060014004003  15000US060014004003        117.0    06    001  400400   \n",
       "\n",
       "             block group  \n",
       "GEOID                     \n",
       "060014001001           1  \n",
       "060014002001           1  \n",
       "060014002002           2  \n",
       "060014003001           1  \n",
       "060014003002           2  \n",
       "060014003003           3  \n",
       "060014003004           4  \n",
       "060014004001           1  \n",
       "060014004002           2  \n",
       "060014004003           3  "
      ]
     },
     "execution_count": 30,
     "metadata": {},
     "output_type": "execute_result"
    }
   ],
   "source": [
    "db_query = connection.query(cols=['NAME', 'GEOID', col], geo_unit=geo_unit, geo_filter=geo_filter)\n",
    "db_query.index = db_query.GEOID\n",
    "db_query.index = db_query.index.str.replace('15000US','')\n",
    "db_query.head(10)"
   ]
  },
  {
   "cell_type": "markdown",
   "metadata": {},
   "source": [
    "We've queried the name of the geographic region along with the population count in that region. We can plot a histogram of counts: "
   ]
  },
  {
   "cell_type": "code",
   "execution_count": 10,
   "metadata": {},
   "outputs": [
    {
     "data": {
      "image/png": "[encoded data removed]",
      "text/plain": [
       "<matplotlib.figure.Figure at 0x1198c4278>"
      ]
     },
     "metadata": {},
     "output_type": "display_data"
    }
   ],
   "source": [
    "plt.hist(db_query[col].loc[db_query[col].notnull()])\n",
    "plt.xlabel('Population in Block Group')\n",
    "plt.ylabel('Frequency')\n",
    "plt.show()"
   ]
  },
  {
   "cell_type": "markdown",
   "metadata": {
    "collapsed": true
   },
   "source": [
    "Now, let's access the geometry through the TIGER database. We can look at the available databases:"
   ]
  },
  {
   "cell_type": "code",
   "execution_count": 11,
   "metadata": {},
   "outputs": [
    {
     "data": {
      "text/plain": [
       "[{'name': 'AIANNHA', 'type': 'MapServer'},\n",
       " {'name': 'CBSA', 'type': 'MapServer'},\n",
       " {'name': 'Hydro_LargeScale', 'type': 'MapServer'},\n",
       " {'name': 'Hydro', 'type': 'MapServer'},\n",
       " {'name': 'Labels', 'type': 'MapServer'},\n",
       " {'name': 'Legislative', 'type': 'MapServer'},\n",
       " {'name': 'Places_CouSub_ConCity_SubMCD', 'type': 'MapServer'},\n",
       " {'name': 'PUMA_TAD_TAZ_UGA_ZCTA', 'type': 'MapServer'},\n",
       " {'name': 'Region_Division', 'type': 'MapServer'},\n",
       " {'name': 'School', 'type': 'MapServer'},\n",
       " {'name': 'Special_Land_Use_Areas', 'type': 'MapServer'},\n",
       " {'name': 'State_County', 'type': 'MapServer'},\n",
       " {'name': 'tigerWMS_ACS2013', 'type': 'MapServer'},\n",
       " {'name': 'tigerWMS_ACS2014', 'type': 'MapServer'},\n",
       " {'name': 'tigerWMS_ACS2015', 'type': 'MapServer'},\n",
       " {'name': 'tigerWMS_ACS2016', 'type': 'MapServer'},\n",
       " {'name': 'tigerWMS_ACS2017', 'type': 'MapServer'},\n",
       " {'name': 'tigerWMS_Census2010', 'type': 'MapServer'},\n",
       " {'name': 'tigerWMS_Current', 'type': 'MapServer'},\n",
       " {'name': 'tigerWMS_ECON2012', 'type': 'MapServer'},\n",
       " {'name': 'tigerWMS_PhysicalFeatures', 'type': 'MapServer'},\n",
       " {'name': 'Tracts_Blocks', 'type': 'MapServer'},\n",
       " {'name': 'Transportation_LargeScale', 'type': 'MapServer'},\n",
       " {'name': 'Transportation', 'type': 'MapServer'},\n",
       " {'name': 'TribalTracts', 'type': 'MapServer'},\n",
       " {'name': 'Urban', 'type': 'MapServer'},\n",
       " {'name': 'USLandmass', 'type': 'MapServer'}]"
      ]
     },
     "execution_count": 11,
     "metadata": {},
     "output_type": "execute_result"
    }
   ],
   "source": [
    "c.tiger.available()"
   ]
  },
  {
   "cell_type": "markdown",
   "metadata": {},
   "source": [
    "We'll pick the ACS 2015 database, to match what data we grabbed from above."
   ]
  },
  {
   "cell_type": "code",
   "execution_count": 12,
   "metadata": {
    "collapsed": true
   },
   "outputs": [],
   "source": [
    "connection.set_mapservice('tigerWMS_ACS2015')"
   ]
  },
  {
   "cell_type": "markdown",
   "metadata": {},
   "source": [
    "We can look at the possible types of geometries we can get access to. We're interested in the Census Block Groups. "
   ]
  },
  {
   "cell_type": "code",
   "execution_count": 13,
   "metadata": {},
   "outputs": [
    {
     "data": {
      "text/plain": [
       "{0: (ESRILayer) 2010 Census Public Use Microdata Areas,\n",
       " 1: (ESRILayer) 2010 Census Public Use Microdata Areas Labels,\n",
       " 2: (ESRILayer) 2010 Census ZIP Code Tabulation Areas,\n",
       " 3: (ESRILayer) 2010 Census ZIP Code Tabulation Areas Labels,\n",
       " 4: (ESRILayer) Tribal Census Tracts,\n",
       " 5: (ESRILayer) Tribal Census Tracts Labels,\n",
       " 6: (ESRILayer) Tribal Block Groups,\n",
       " 7: (ESRILayer) Tribal Block Groups Labels,\n",
       " 8: (ESRILayer) Census Tracts,\n",
       " 9: (ESRILayer) Census Tracts Labels,\n",
       " 10: (ESRILayer) Census Block Groups,\n",
       " 11: (ESRILayer) Census Block Groups Labels,\n",
       " 12: (ESRILayer) Unified School Districts,\n",
       " 13: (ESRILayer) Unified School Districts Labels,\n",
       " 14: (ESRILayer) Secondary School Districts,\n",
       " 15: (ESRILayer) Secondary School Districts Labels,\n",
       " 16: (ESRILayer) Elementary School Districts,\n",
       " 17: (ESRILayer) Elementary School Districts Labels,\n",
       " 18: (ESRILayer) Estates,\n",
       " 19: (ESRILayer) Estates Labels,\n",
       " 20: (ESRILayer) County Subdivisions,\n",
       " 21: (ESRILayer) County Subdivisions Labels,\n",
       " 22: (ESRILayer) Subbarrios,\n",
       " 23: (ESRILayer) Subbarrios Labels,\n",
       " 24: (ESRILayer) Consolidated Cities,\n",
       " 25: (ESRILayer) Consolidated Cities Labels,\n",
       " 26: (ESRILayer) Incorporated Places,\n",
       " 27: (ESRILayer) Incorporated Places Labels,\n",
       " 28: (ESRILayer) Census Designated Places,\n",
       " 29: (ESRILayer) Census Designated Places Labels,\n",
       " 30: (ESRILayer) Alaska Native Regional Corporations,\n",
       " 31: (ESRILayer) Alaska Native Regional Corporations Labels,\n",
       " 32: (ESRILayer) Tribal Subdivisions,\n",
       " 33: (ESRILayer) Tribal Subdivisions Labels,\n",
       " 34: (ESRILayer) Federal American Indian Reservations,\n",
       " 35: (ESRILayer) Federal American Indian Reservations Labels,\n",
       " 36: (ESRILayer) Off-Reservation Trust Lands,\n",
       " 37: (ESRILayer) Off-Reservation Trust Lands Labels,\n",
       " 38: (ESRILayer) State American Indian Reservations,\n",
       " 39: (ESRILayer) State American Indian Reservations Labels,\n",
       " 40: (ESRILayer) Hawaiian Home Lands,\n",
       " 41: (ESRILayer) Hawaiian Home Lands Labels,\n",
       " 42: (ESRILayer) Alaska Native Village Statistical Areas,\n",
       " 43: (ESRILayer) Alaska Native Village Statistical Areas Labels,\n",
       " 44: (ESRILayer) Oklahoma Tribal Statistical Areas,\n",
       " 45: (ESRILayer) Oklahoma Tribal Statistical Areas Labels,\n",
       " 46: (ESRILayer) State Designated Tribal Statistical Areas,\n",
       " 47: (ESRILayer) State Designated Tribal Statistical Areas Labels,\n",
       " 48: (ESRILayer) Tribal Designated Statistical Areas,\n",
       " 49: (ESRILayer) Tribal Designated Statistical Areas Labels,\n",
       " 50: (ESRILayer) American Indian Joint-Use Areas,\n",
       " 51: (ESRILayer) American Indian Joint-Use Areas Labels,\n",
       " 52: (ESRILayer) 114th Congressional Districts,\n",
       " 53: (ESRILayer) 114th Congressional Districts Labels,\n",
       " 54: (ESRILayer) 2014 State Legislative Districts - Upper,\n",
       " 55: (ESRILayer) 2014 State Legislative Districts - Upper Labels,\n",
       " 56: (ESRILayer) 2014 State Legislative Districts - Lower,\n",
       " 57: (ESRILayer) 2014 State Legislative Districts - Lower Labels,\n",
       " 58: (ESRILayer) Census Divisions,\n",
       " 59: (ESRILayer) Census Divisions Labels,\n",
       " 60: (ESRILayer) Census Regions,\n",
       " 61: (ESRILayer) Census Regions Labels,\n",
       " 62: (ESRILayer) 2010 Census Urbanized Areas,\n",
       " 63: (ESRILayer) 2010 Census Urbanized Areas Labels,\n",
       " 64: (ESRILayer) 2010 Census Urban Clusters,\n",
       " 65: (ESRILayer) 2010 Census Urban Clusters Labels,\n",
       " 66: (ESRILayer) Combined New England City and Town Areas,\n",
       " 67: (ESRILayer) Combined New England City and Town Areas Labels,\n",
       " 68: (ESRILayer) New England City and Town Area Divisions,\n",
       " 69: (ESRILayer) New England City and Town Area  Divisions Labels,\n",
       " 70: (ESRILayer) Metropolitan New England City and Town Areas,\n",
       " 71: (ESRILayer) Metropolitan New England City and Town Areas Labels,\n",
       " 72: (ESRILayer) Micropolitan New England City and Town Areas,\n",
       " 73: (ESRILayer) Micropolitan New England City and Town Areas Labels,\n",
       " 74: (ESRILayer) Combined Statistical Areas,\n",
       " 75: (ESRILayer) Combined Statistical Areas Labels,\n",
       " 76: (ESRILayer) Metropolitan Divisions,\n",
       " 77: (ESRILayer) Metropolitan Divisions Labels,\n",
       " 78: (ESRILayer) Metropolitan Statistical Areas,\n",
       " 79: (ESRILayer) Metropolitan Statistical Areas Labels,\n",
       " 80: (ESRILayer) Micropolitan Statistical Areas,\n",
       " 81: (ESRILayer) Micropolitan Statistical Areas Labels,\n",
       " 82: (ESRILayer) States,\n",
       " 83: (ESRILayer) States Labels,\n",
       " 84: (ESRILayer) Counties,\n",
       " 85: (ESRILayer) Counties Labels}"
      ]
     },
     "execution_count": 13,
     "metadata": {},
     "output_type": "execute_result"
    }
   ],
   "source": [
    "connection.mapservice.layers"
   ]
  },
  {
   "cell_type": "markdown",
   "metadata": {},
   "source": [
    "We'll get both the tracts and the block groups using the same query to the database. What's returned to us is a geopandas GeoDataFrame."
   ]
  },
  {
   "cell_type": "code",
   "execution_count": 14,
   "metadata": {
    "collapsed": true
   },
   "outputs": [],
   "source": [
    "tracts = connection.mapservice.query(layer=8, where='STATE=06 and COUNTY=001', pkg='geopandas')"
   ]
  },
  {
   "cell_type": "code",
   "execution_count": 15,
   "metadata": {},
   "outputs": [],
   "source": [
    "blocks = connection.mapservice.query(layer=10, where='STATE=06 and COUNTY=001', pkg='geopandas')"
   ]
  },
  {
   "cell_type": "markdown",
   "metadata": {},
   "source": [
    "We can plot the block groups using the GeoDataFrame. "
   ]
  },
  {
   "cell_type": "code",
   "execution_count": 18,
   "metadata": {},
   "outputs": [
    {
     "data": {
      "image/png": "[encoded data removed]",
      "text/plain": [
       "<matplotlib.figure.Figure at 0x118dd0400>"
      ]
     },
     "metadata": {},
     "output_type": "display_data"
    }
   ],
   "source": [
    "fig, ax = plt.subplots()\n",
    "blocks.plot(ax=ax)\n",
    "ax.set_xticks([])\n",
    "ax.set_yticks([])\n",
    "plt.show()"
   ]
  },
  {
   "cell_type": "markdown",
   "metadata": {},
   "source": [
    "Let's look at a few entries in the GeoDataFrame. "
   ]
  },
  {
   "cell_type": "code",
   "execution_count": 24,
   "metadata": {},
   "outputs": [
    {
     "data": {
      "text/plain": [
       "6498"
      ]
     },
     "execution_count": 24,
     "metadata": {},
     "output_type": "execute_result"
    }
   ],
   "source": [
    "tracts.size"
   ]
  },
  {
   "cell_type": "code",
   "execution_count": 42,
   "metadata": {},
   "outputs": [],
   "source": [
    "block_population = pd.merge(db_query, blocks, left_index=True, right_on='GEOID')\n",
    "block_population = gpd.GeoDataFrame(block_population)"
   ]
  },
  {
   "cell_type": "code",
   "execution_count": 61,
   "metadata": {},
   "outputs": [
    {
     "data": {
      "text/plain": [
       "<matplotlib.colorbar.Colorbar at 0x11f7c3ef0>"
      ]
     },
     "execution_count": 61,
     "metadata": {},
     "output_type": "execute_result"
    },
    {
     "data": {
      "image/png": "[encoded data removed]",
      "text/plain": [
       "<matplotlib.figure.Figure at 0x114bc2ba8>"
      ]
     },
     "metadata": {},
     "output_type": "display_data"
    }
   ],
   "source": [
    "ax = block_population[block_population['B00001_001E'].notnull()].plot(column='B00001_001E')\n",
    "# add colorbar\n",
    "fig = ax.get_figure()\n",
    "cax = fig.add_axes([0.9, 0.1, 0.03, 0.8])\n",
    "sm = plt.cm.ScalarMappable()\n",
    "# fake up the array of the scalar mappable. Urgh...\n",
    "sm._A = []\n",
    "fig.colorbar(sm, cax=cax)"
   ]
  },
  {
   "cell_type": "code",
   "execution_count": 59,
   "metadata": {},
   "outputs": [
    {
     "data": {
      "text/plain": [
       "(1045, 27)"
      ]
     },
     "execution_count": 59,
     "metadata": {},
     "output_type": "execute_result"
    }
   ],
   "source": [
    "block_population.fillna(0)\n",
    "block_population[block_population['B00001_001E'].notnull()].shape"
   ]
  },
  {
   "cell_type": "code",
   "execution_count": null,
   "metadata": {
    "collapsed": true
   },
   "outputs": [],
   "source": []
  }
 ],
 "metadata": {
  "kernelspec": {
   "display_name": "Python 3",
   "language": "python",
   "name": "python3"
  },
  "language_info": {
   "codemirror_mode": {
    "name": "ipython",
    "version": 3
   },
   "file_extension": ".py",
   "mimetype": "text/x-python",
   "name": "python",
   "nbconvert_exporter": "python",
   "pygments_lexer": "ipython3",
   "version": "3.5.5"
  }
 },
 "nbformat": 4,
 "nbformat_minor": 1
}
